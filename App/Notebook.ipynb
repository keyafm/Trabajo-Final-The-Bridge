{
 "cells": [
  {
   "cell_type": "code",
   "execution_count": 1,
   "metadata": {},
   "outputs": [],
   "source": [
    "import pandas as pd\n",
    "import numpy as np\n",
    "import matplotlib.pyplot as plt\n",
    "import seaborn as sns\n",
    "from scipy import stats\n",
    "from sklearn.model_selection import train_test_split\n",
    "from sklearn.metrics import mean_squared_error, mean_absolute_error, r2_score\n",
    "from sklearn.pipeline import Pipeline\n",
    "from sklearn.preprocessing import StandardScaler\n",
    "from sklearn.model_selection import GridSearchCV\n",
    "from sklearn.linear_model import LinearRegression, Lasso, Ridge\n",
    "from sklearn.ensemble import RandomForestRegressor\n",
    "from sklearn.ensemble import GradientBoostingRegressor\n",
    "from sklearn.svm import SVR\n",
    "from xgboost import XGBRegressor\n",
    "from sklearn.neural_network import MLPRegressor\n",
    "from sklearn.cluster import KMeans\n",
    "from sklearn.decomposition import PCA\n",
    "from sklearn.feature_extraction.text import CountVectorizer\n",
    "from sklearn.metrics import silhouette_score\n",
    "from sklearn.cluster import DBSCAN\n",
    "import joblib\n",
    "from sklearn.model_selection import cross_val_score\n",
    "from sklearn.pipeline import Pipeline"
   ]
  },
  {
   "cell_type": "code",
   "execution_count": 2,
   "metadata": {},
   "outputs": [],
   "source": [
    "df= pd.read_csv(r\"C:\\Users\\keyke\\Documents\\botcam\\Proyecto\\scr\\Data\\Processed\\datafims.csv\")\n"
   ]
  },
  {
   "cell_type": "code",
   "execution_count": 6,
   "metadata": {},
   "outputs": [
    {
     "name": "stdout",
     "output_type": "stream",
     "text": [
      "['rating', 'genre', 'year', 'votes', 'budget', 'runtime']\n",
      "<class 'str'>\n"
     ]
    }
   ],
   "source": [
    "import joblib\n",
    "\n",
    "# Carga el modelo entrenado\n",
    "model = joblib.load(\"model/xgb_film_model.pkl\")\n",
    "\n",
    "# Obtiene las características utilizadas por el modelo\n",
    "feature_names = model.get_booster().feature_names\n",
    "\n",
    "# Imprime la lista de características\n",
    "print(feature_names)\n",
    "print(type(feature_names[0]))"
   ]
  },
  {
   "cell_type": "code",
   "execution_count": null,
   "metadata": {},
   "outputs": [],
   "source": [
    "from flask import Flask, render_template, request\n",
    "import numpy as np\n",
    "import pandas as pd\n",
    "import pickle\n",
    "import xgboost as xgb\n",
    "\n",
    "app = Flask(__name__)\n",
    "model = pickle.load(open(\"model/xgb_film_model.pkl\", \"rb\"))\n",
    "\n",
    "# Mapeo de categorías de calificación por edades y género a números\n",
    "calificacion_mapper = {'R': 1, 'PG': 2, 'G': 3, 'Not Rated': 4, 'NC-17': 5, 'Approved': 6, 'PG-13': 7, 'Unrated': 8, 'X': 9, 'TV-PG': 10, 'TV-MA': 11, 'TV-14': 12}\n",
    "genero_mapper = {'Drama': 1, 'Adventure': 2, 'Action': 3, 'Comedy': 4, 'Horror': 5, 'Biography': 6, 'Crime': 7, 'Fantasy': 8, 'Family': 9, 'Animation': 10, 'Romance': 11, 'Music': 12, 'Western': 13, 'Thriller': 14, 'Sci-Fi': 15, 'Mystery': 16, 'Sport': 17, 'Musical': 18}\n",
    "\n",
    "@app.route(\"/\", methods=[\"GET\", \"POST\"])\n",
    "def home():\n",
    "    if request.method == \"POST\":\n",
    "        # Obtener los valores ingresados desde el formulario\n",
    "        rating_text = request.form.get(\"rating\")\n",
    "        genre_text = request.form.get(\"genre\")\n",
    "        year = int(request.form.get(\"year\"))\n",
    "        votes = int(request.form.get(\"votes\"))\n",
    "        budget = int(request.form.get(\"budget\"))\n",
    "        runtime = int(request.form.get(\"runtime\"))\n",
    "\n",
    "        print(\"Valores ingresados:\")\n",
    "        print(\"Rating:\", rating_text)\n",
    "        print(\"Genre:\", genre_text)\n",
    "        print(\"Year:\", year)\n",
    "        print(\"Votes:\", votes)\n",
    "        print(\"Budget:\", budget)\n",
    "        print(\"Runtime:\", runtime)\n",
    "\n",
    "        # Convertir calificación por edades y género a números usando el mapeo\n",
    "        rating = calificacion_mapper.get(rating_text, 0)\n",
    "        genre = genero_mapper.get(genre_text, 0)\n",
    "\n",
    "        # Crear un DataFrame con las características\n",
    "        data = pd.DataFrame([[rating, genre, year, votes, budget, runtime]], columns=['rating', 'genre', 'year', 'votes', 'budget', 'runtime'])\n",
    "\n",
    "        # Realizar la predicción usando el modelo\n",
    "        prediction = model.predict(data)[0]\n",
    "\n",
    "        return render_template(\"index.html\", prediction_text=\"El Ingreso Bruto de nuestra película es: {}\".format(prediction))\n",
    "\n",
    "    return render_template(\"index.html\") \n",
    "\n",
    "if __name__ == \"__main__\":\n",
    "    app.run(debug=True)\n",
    "\n"
   ]
  }
 ],
 "metadata": {
  "kernelspec": {
   "display_name": "Python 3",
   "language": "python",
   "name": "python3"
  },
  "language_info": {
   "codemirror_mode": {
    "name": "ipython",
    "version": 3
   },
   "file_extension": ".py",
   "mimetype": "text/x-python",
   "name": "python",
   "nbconvert_exporter": "python",
   "pygments_lexer": "ipython3",
   "version": "3.10.11"
  },
  "orig_nbformat": 4
 },
 "nbformat": 4,
 "nbformat_minor": 2
}
